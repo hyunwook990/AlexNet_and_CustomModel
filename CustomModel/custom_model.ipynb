{
 "cells": [
  {
   "cell_type": "code",
   "execution_count": null,
   "id": "635655f1",
   "metadata": {},
   "outputs": [],
   "source": [
    "import torch\n",
    "import torch.nn as nn\n",
    "import torch.nn.functional as F\n",
    "import torch.optim as optim\n",
    "from torch.utils.data import Dataset, DataLoader\n",
    "\n",
    "import torchvision\n",
    "import torchvision.datasets\n",
    "import torchvision.transforms as transforms\n",
    "\n",
    "import numpy as np\n",
    "import matplotlib\n",
    "import matplotlib.pyplot as plt"
   ]
  },
  {
   "cell_type": "code",
   "execution_count": null,
   "id": "051d4458",
   "metadata": {},
   "outputs": [],
   "source": [
    "\n",
    "transform = transforms.Compose([\n",
    "    transforms.ToTensor(),                   # pixel value를 0 ~ 1 사이 값으로 변환\n",
    "    transforms.Normalize((0.5, ), (0.5, )),  # 0 ~ 1 사이로 변환된 pixel value를 -1 ~ 1 사이로 변환\n",
    "])"
   ]
  },
  {
   "cell_type": "code",
   "execution_count": null,
   "id": "21e6c4ac",
   "metadata": {},
   "outputs": [],
   "source": [
    "trainset = torchvision.datasets.CIFAR10('./data',\n",
    "                                        train=True,\n",
    "                                        download=True,\n",
    "                                        transform=transform)\n",
    "\n",
    "testset = torchvision.datasets.CIFAR10('./data',\n",
    "                                       train=False,\n",
    "                                       download=True,\n",
    "                                       transform=transform)"
   ]
  },
  {
   "cell_type": "code",
   "execution_count": null,
   "id": "85b348ba",
   "metadata": {},
   "outputs": [],
   "source": [
    "train_loader = DataLoader(trainset,\n",
    "                          batch_size=128,\n",
    "                          shuffle=True,\n",
    "                          num_workers=4)\n",
    "\n",
    "test_loader = DataLoader(testset,\n",
    "                          batch_size=128,\n",
    "                          shuffle=True,\n",
    "                          num_workers=4)"
   ]
  },
  {
   "cell_type": "code",
   "execution_count": 2,
   "id": "cd357c9c",
   "metadata": {},
   "outputs": [
    {
     "data": {
      "text/plain": [
       "device(type='cpu')"
      ]
     },
     "execution_count": 2,
     "metadata": {},
     "output_type": "execute_result"
    }
   ],
   "source": [
    "device = torch.device(\"cuda\" if torch.cuda.is_available() else \"cpu\")\n",
    "device"
   ]
  },
  {
   "cell_type": "code",
   "execution_count": null,
   "id": "ac1f1cbf",
   "metadata": {},
   "outputs": [],
   "source": [
    "class MyModel(nn.Module):\n",
    "    def __init__(self):\n",
    "        super(MyModel, self).__init__()\n",
    "        \n",
    "        self.conv_layer1 = nn.Conv2d(in_channels=3, out_channels=96, kernel_size=3, stride=1)\n",
    "        self.conv_layer2 = nn.Conv2d(in_channels=96, out_channels=256, kernel_size=3, stride=1)\n",
    "        # self.conv_layer3 = nn.Conv2d(in_channels=96, out_channels=256, kernel_size=3, stride=1)\n",
    "        # self.conv_layer4 = nn.Conv2d(in_channels=256, out_channels=384, kernel_size=3, stride=1)\n",
    "        self.fc_layer1 = nn.Linear(in_features=5*5*256, out_features=1000) \n",
    "        self.fc_layer2 = nn.Linear(in_features=1000, out_features=10)\n",
    "        \n",
    "    def forward(self, x):\n",
    "        x = self.conv_layer1(x)     # 32x32 -> 30x30\n",
    "        x = F.relu(x)\n",
    "        x = F.max_pool2d(input=x, kernel_size=3, stride=2)  # 30x30 -> 14x14\n",
    "        \n",
    "        x = self.conv_layer2(x)     # 14x14 -> 12x12\n",
    "        x = F.relu(x)\n",
    "        x = F.max_pool2d(input=x, kernel_size=3, stride=2)  # 12x12 -> 5x5\n",
    "        \n",
    "        # x = self.conv_layer3(x)\n",
    "        # x = F.relu(x)\n",
    "        # x = F.max_pool2d(input=x, kernel_size=3, stride=2)ß\n",
    "        \n",
    "        x = nn.Flatten(x)\n",
    "        x = F.relu(self.fc_layer1(x))\n",
    "        return F.relu(self.fc_layer2(x))"
   ]
  },
  {
   "cell_type": "code",
   "execution_count": null,
   "id": "c34c2020",
   "metadata": {},
   "outputs": [
    {
     "data": {
      "text/plain": [
       "my_model(\n",
       "  (conv_layer1): Conv2d(3, 96, kernel_size=(3, 3), stride=(1, 1))\n",
       "  (conv_layer2): Conv2d(96, 256, kernel_size=(3, 3), stride=(1, 1))\n",
       "  (fc_layer1): Linear(in_features=6400, out_features=1000, bias=True)\n",
       "  (fc_layer2): Linear(in_features=1000, out_features=10, bias=True)\n",
       ")"
      ]
     },
     "execution_count": 7,
     "metadata": {},
     "output_type": "execute_result"
    }
   ],
   "source": [
    "my_model = MyModel().to(device)\n",
    "my_model"
   ]
  },
  {
   "cell_type": "code",
   "execution_count": null,
   "id": "64816a10",
   "metadata": {},
   "outputs": [],
   "source": [
    "criterion = nn.MSELoss()\n",
    "optimizer = optim.SGD(my_model.parameters(),lr=.001)"
   ]
  },
  {
   "cell_type": "code",
   "execution_count": null,
   "id": "ead6e181",
   "metadata": {},
   "outputs": [],
   "source": [
    "def train(model, train_loader, optimizer, losses, corrects):\n",
    "    model.train()\n",
    "    correct = 0\n",
    "    total = len(train_loader.dataset)\n",
    "    for batch, (image, label) in enumerate(train_loader):\n",
    "        image, label = image.to(device), label.to(device)\n",
    "        optimizer.zero_grad()\n",
    "        pred_label = model(image)\n",
    "        \n",
    "        _, predicted = torch.max(pred_label.data, 1)\n",
    "        correct += (predicted == label).sum().item()\n",
    "        \n",
    "        loss = criterion(pred_label, label)\n",
    "        loss.backward()\n",
    "        optimizer.step()\n",
    "        \n",
    "        if not(batch % 100):\n",
    "            print(f\"Train Epoch : {batch * len(image)} / {len(train_loader.dataset)} | Train Loss : {loss.item():.4f}\")\n",
    "    \n",
    "    losses.append(loss.item())\n",
    "    correct = 100 * correct / total\n",
    "    corrects.append(100 * correct / total)\n",
    "    print(f\"Train Accuracy : {correct:.2f}\")"
   ]
  },
  {
   "cell_type": "code",
   "execution_count": null,
   "id": "9205d927",
   "metadata": {},
   "outputs": [],
   "source": [
    "def test(model, test_loader):\n",
    "    model.eval()\n",
    "    test_loss = 0\n",
    "    correct = 0\n",
    "    total = len(test_loader.dataset)\n",
    "    with torch.no_grad():\n",
    "        for image, label in test_loader:\n",
    "            image, label = image.to(device), label.to(device)\n",
    "            pred_label = model(image)\n",
    "            test_loss += criterion(pred_label, label).item()\n",
    "            _, predicted = torch.max(pred_label.data, 1)\n",
    "            \n",
    "            correct += (predicted == label).sum().item()\n",
    "            \n",
    "    test_loss /= total\n",
    "    correct = 100 * correct / total\n",
    "            \n",
    "    return test_loss, correct"
   ]
  },
  {
   "cell_type": "code",
   "execution_count": null,
   "id": "b7f5b8f7",
   "metadata": {},
   "outputs": [],
   "source": [
    "epochs = 100\n",
    "losses = []\n",
    "corrects = []\n",
    "best_score = 0\n",
    "for epoch in range(epochs):\n",
    "    train(my_model, train_loader, optimizer, losses, corrects)\n",
    "    test_loss, correct = test(my_model, test_loader)\n",
    "    print(f\"Epoch : {epoch + 1} | Test Loss : {test_loss:.4f} | Test Accuracy : {correct:.2f}\")"
   ]
  }
 ],
 "metadata": {
  "kernelspec": {
   "display_name": "first_venv",
   "language": "python",
   "name": "python3"
  },
  "language_info": {
   "codemirror_mode": {
    "name": "ipython",
    "version": 3
   },
   "file_extension": ".py",
   "mimetype": "text/x-python",
   "name": "python",
   "nbconvert_exporter": "python",
   "pygments_lexer": "ipython3",
   "version": "3.12.4"
  }
 },
 "nbformat": 4,
 "nbformat_minor": 5
}
