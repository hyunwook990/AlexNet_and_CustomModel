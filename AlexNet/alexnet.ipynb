{
 "cells": [
  {
   "cell_type": "markdown",
   "id": "a2ba9b05",
   "metadata": {},
   "source": [
    "# AlexNet"
   ]
  },
  {
   "cell_type": "code",
   "execution_count": null,
   "id": "edc90dd1",
   "metadata": {},
   "outputs": [],
   "source": [
    "import torch\n",
    "import torch.nn as nn\n",
    "import torch.nn.functional as F\n",
    "import torch.optim as optim"
   ]
  },
  {
   "cell_type": "markdown",
   "id": "a95a0c22",
   "metadata": {},
   "source": [
    "# 데이터 로드"
   ]
  },
  {
   "cell_type": "code",
   "execution_count": null,
   "id": "aeb3ece4",
   "metadata": {},
   "outputs": [],
   "source": []
  },
  {
   "cell_type": "markdown",
   "id": "5ceb1231",
   "metadata": {},
   "source": [
    "# convolution, fully_connected"
   ]
  },
  {
   "cell_type": "code",
   "execution_count": null,
   "id": "227e6d0c",
   "metadata": {},
   "outputs": [],
   "source": [
    "class AlexNet(nn.Module):\n",
    "    def __init__(self):\n",
    "        super(AlexNet, self).__init__()\n",
    "        # in, out_channels가 이미지 사이즈가 아니라 채널 사이즈(filter, feature 개수)를 가지고 가는거구나\n",
    "        self.conv_layer1 = nn.Conv2d(in_channels=3, out_channels=96, kernel_size=11, stride=4)\n",
    "        self.conv_layer2 = nn.Conv2d(in_channels=96, out_channels=256, kernel_size=5, stride=1, padding=2)\n",
    "        self.conv_layer3 = nn.Conv2d(in_channels=256, out_channels=384, kernel_size=3, stride=1, padding=1)\n",
    "        self.conv_layer4 = nn.Conv2d(in_channels=384, out_channels=384, kernel_size=3, stride=1, padding=1)\n",
    "        self.conv_layer5 = nn.Conv2d(in_channels=384, out_channels=256, kernel_size=3, stride=1, padding=1)\n",
    "        self.fc_layer1 = nn.Linear(in_features=6*6*256, out_features=4096)\n",
    "        self.fc_layer2 = nn.Linear(in_features=4096, out_features=4096)\n",
    "        self.fc_layer3 = nn.Linear(in_features=4096, out_features=1000)\n",
    "    \n",
    "    # 이건 alexnet을 구현한 git에서 가져온 code\n",
    "    def init_bias(self):\n",
    "        nn.init.normal_(self.conv_layer1.weight, mean=0, std=0.01)\n",
    "        nn.init.constant_(self.conv_layer1.bias, 0)\n",
    "        nn.init.normal_(self.conv_layer2.weight, mean=0, std=0.01)\n",
    "        nn.init.constant_(self.conv_layer2.bias, 1)\n",
    "        nn.init.normal_(self.conv_layer3.weight, mean=0, std=0.01)\n",
    "        nn.init.constant_(self.conv_layer3.bias, 0)\n",
    "        nn.init.normal_(self.conv_layer4.weight, mean=0, std=0.01)\n",
    "        nn.init.constant_(self.conv_layer4.bias, 1)\n",
    "        nn.init.normal_(self.conv_layer5.weight, mean=0, std=0.01)\n",
    "        nn.init.constant_(self.conv_layer5.bias, 1)\n",
    "\n",
    "    # x1, x2 = 병렬 GPU에 각각 처리되는 것을 구현하기 위한 변수\n",
    "    def forward(self, x):\n",
    "        # Layer_1\n",
    "        # Convolution\n",
    "        x = self.conv_layer1(x)\n",
    "        # LRN (LocalResponseNormalization, 정규화)\n",
    "        F.local_response_norm(x, size=5, alpha=0.0001, beta=0.75, k=2)\n",
    "        # ReLU\n",
    "        x = F.relu(x)\n",
    "        # MaxPooling\n",
    "        x = F.max_pool2d(x, kernel_size=3, stride=2)\n",
    "\n",
    "        # Layer_2\n",
    "        x = self.conv_layer2(x)\n",
    "        x = F.local_response_norm(x, size=5, alpha=0.0001, beta=0.75, k=2)\n",
    "        x = F.relu(x)\n",
    "        x = F.max_pool2d(x, kernel_size=3, stride=2)\n",
    "        \n",
    "        # Layer_3\n",
    "        x = F.relu(self.conv_layer3(x))\n",
    "        \n",
    "        # Layer_4\n",
    "        x = F.relu(self.conv_layer4(x))\n",
    "        \n",
    "        # Layer_5\n",
    "        x = F.relu(self.conv_layer5(x))\n",
    "        x = F.max_pool2d(x, kernel_size=3, stride=2)\n",
    "        \n",
    "        # Flatten\n",
    "        x = nn.Flatten(x)\n",
    "        # x = x.flatten()\n",
    "        # x = x.view(-1, 6*6*256)\n",
    "\n",
    "        # Layer_6\n",
    "        x = nn.Dropout(x, p=0.5)\n",
    "        x = F.relu(self.fc_layer1(x))\n",
    "\n",
    "        # Layer_7\n",
    "        x = nn.Dropout(x, p=0.5)\n",
    "        x = F.relu(self.fc_layer2(x))\n",
    "\n",
    "        # Layer_8\n",
    "        x = self.fc_layer3(x)\n",
    "\n",
    "        return x"
   ]
  },
  {
   "cell_type": "code",
   "execution_count": 14,
   "id": "d89dae87",
   "metadata": {},
   "outputs": [
    {
     "data": {
      "text/plain": [
       "device(type='cpu')"
      ]
     },
     "execution_count": 14,
     "metadata": {},
     "output_type": "execute_result"
    }
   ],
   "source": [
    "device = torch.device(\"cuda\" if torch.cuda.is_available() else \"cpu\")\n",
    "device"
   ]
  },
  {
   "cell_type": "code",
   "execution_count": 15,
   "id": "4ac600c7",
   "metadata": {},
   "outputs": [
    {
     "name": "stdout",
     "output_type": "stream",
     "text": [
      "AlexNet(\n",
      "  (conv_layer1): Conv2d(3, 96, kernel_size=(11, 11), stride=(4, 4))\n",
      "  (conv_layer2): Conv2d(96, 256, kernel_size=(5, 5), stride=(1, 1), padding=(2, 2))\n",
      "  (conv_layer3): Conv2d(256, 384, kernel_size=(3, 3), stride=(1, 1), padding=(1, 1))\n",
      "  (conv_layer4): Conv2d(384, 384, kernel_size=(3, 3), stride=(1, 1), padding=(1, 1))\n",
      "  (conv_layer5): Conv2d(384, 256, kernel_size=(3, 3), stride=(1, 1), padding=(1, 1))\n",
      "  (fc_layer1): Linear(in_features=9216, out_features=4096, bias=True)\n",
      "  (fc_layer2): Linear(in_features=4096, out_features=4096, bias=True)\n",
      "  (fc_layer3): Linear(in_features=4096, out_features=1000, bias=True)\n",
      ")\n"
     ]
    }
   ],
   "source": [
    "alexnet = AlexNet().to(device)\n",
    "print(alexnet)"
   ]
  },
  {
   "cell_type": "code",
   "execution_count": null,
   "id": "0f742d21",
   "metadata": {},
   "outputs": [],
   "source": [
    "# criterion = nn.CrossEntropyLoss()\n",
    "# optimizer = optim.Adam(params=alexnet.parameters(), lr=1e-4)\n",
    "# lr_scheduler = optim.lr_scheduler.StepLR(optimizer=optimizer, step_size=30, gamma=0.1)\n"
   ]
  },
  {
   "cell_type": "markdown",
   "id": "8d678b60",
   "metadata": {},
   "source": [
    "# git code"
   ]
  },
  {
   "cell_type": "code",
   "execution_count": null,
   "id": "62996898",
   "metadata": {},
   "outputs": [],
   "source": [
    "if __name__ == '__main__':\n",
    "    # print the seed value\n",
    "    seed = torch.initial_seed()\n",
    "    print('Used seed : {}'.format(seed))\n",
    "\n",
    "    # tbwriter = SummaryWriter(log_dir=LOG_DIR)\n",
    "    # print('TensorboardX summary writer created')\n",
    "\n",
    "    # create model\n",
    "    alexnet = AlexNet(num_classes=1000).to(device)\n",
    "    \n",
    "    # # train on multiple GPUs\n",
    "    # alexnet = torch.nn.parallel.DataParallel(alexnet, device_ids=DEVICE_IDS)\n",
    "    # print(alexnet)\n",
    "    # print('AlexNet created')\n",
    "\n",
    "    # create dataset and data loader\n",
    "    dataset = datasets.ImageFolder(TRAIN_IMG_DIR, transforms.Compose([\n",
    "        # transforms.RandomResizedCrop(IMAGE_DIM, scale=(0.9, 1.0), ratio=(0.9, 1.1)),\n",
    "        transforms.CenterCrop(IMAGE_DIM),\n",
    "        # transforms.RandomHorizontalFlip(),\n",
    "        transforms.ToTensor(),\n",
    "        transforms.Normalize(mean=[0.485, 0.456, 0.406], std=[0.229, 0.224, 0.225]),\n",
    "    ]))\n",
    "    print('Dataset created')\n",
    "    dataloader = data.DataLoader(\n",
    "        dataset,\n",
    "        shuffle=True,\n",
    "        pin_memory=True,\n",
    "        num_workers=8,\n",
    "        drop_last=True,\n",
    "        batch_size=128)\n",
    "    print('Dataloader created')\n",
    "\n",
    "    # create optimizer\n",
    "    # the one that WORKS\n",
    "    optimizer = optim.Adam(params=alexnet.parameters(), lr=0.0001)\n",
    "    ### BELOW is the setting proposed by the original paper - which doesn't train....\n",
    "    # optimizer = optim.SGD(\n",
    "    #     params=alexnet.parameters(),\n",
    "    #     lr=LR_INIT,\n",
    "    #     momentum=MOMENTUM,\n",
    "    #     weight_decay=LR_DECAY)\n",
    "    print('Optimizer created')\n",
    "\n",
    "    # multiply LR by 1 / 10 after every 30 epochs\n",
    "    lr_scheduler = optim.lr_scheduler.StepLR(optimizer, step_size=30, gamma=0.1)\n",
    "    print('LR Scheduler created')\n",
    "\n",
    "    # start training!!\n",
    "    print('Starting training...')\n",
    "    total_steps = 1\n",
    "    for epoch in range(90):\n",
    "        lr_scheduler.step()\n",
    "        for imgs, classes in dataloader:\n",
    "            imgs, classes = imgs.to(device), classes.to(device)\n",
    "\n",
    "            # calculate the loss\n",
    "            output = alexnet(imgs)\n",
    "            loss = F.cross_entropy(output, classes)\n",
    "\n",
    "            # update the parameters\n",
    "            optimizer.zero_grad()\n",
    "            loss.backward()\n",
    "            optimizer.step()\n",
    "\n",
    "            # log the information and add to tensorboard\n",
    "            if total_steps % 10 == 0:\n",
    "                with torch.no_grad():\n",
    "                    _, preds = torch.max(output, 1)\n",
    "                    accuracy = torch.sum(preds == classes)\n",
    "\n",
    "                    print('Epoch: {} \\tStep: {} \\tLoss: {:.4f} \\tAcc: {}'\n",
    "                        .format(epoch + 1, total_steps, loss.item(), accuracy.item()))\n",
    "                    tbwriter.add_scalar('loss', loss.item(), total_steps)\n",
    "                    tbwriter.add_scalar('accuracy', accuracy.item(), total_steps)\n",
    "\n",
    "            # print out gradient values and parameter average values\n",
    "            if total_steps % 100 == 0:\n",
    "                with torch.no_grad():\n",
    "                    # print and save the grad of the parameters\n",
    "                    # also print and save parameter values\n",
    "                    print('*' * 10)\n",
    "                    for name, parameter in alexnet.named_parameters():\n",
    "                        if parameter.grad is not None:\n",
    "                            avg_grad = torch.mean(parameter.grad)\n",
    "                            print('\\t{} - grad_avg: {}'.format(name, avg_grad))\n",
    "                            tbwriter.add_scalar('grad_avg/{}'.format(name), avg_grad.item(), total_steps)\n",
    "                            tbwriter.add_histogram('grad/{}'.format(name),\n",
    "                                    parameter.grad.cpu().numpy(), total_steps)\n",
    "                        if parameter.data is not None:\n",
    "                            avg_weight = torch.mean(parameter.data)\n",
    "                            print('\\t{} - param_avg: {}'.format(name, avg_weight))\n",
    "                            tbwriter.add_histogram('weight/{}'.format(name),\n",
    "                                    parameter.data.cpu().numpy(), total_steps)\n",
    "                            tbwriter.add_scalar('weight_avg/{}'.format(name), avg_weight.item(), total_steps)\n",
    "\n",
    "            total_steps += 1\n",
    "\n",
    "        # save checkpoints\n",
    "        checkpoint_path = os.path.join(CHECKPOINT_DIR, 'alexnet_states_e{}.pkl'.format(epoch + 1))\n",
    "        state = {\n",
    "            'epoch': epoch,\n",
    "            'total_steps': total_steps,\n",
    "            'optimizer': optimizer.state_dict(),\n",
    "            'model': alexnet.state_dict(),\n",
    "            'seed': seed,\n",
    "        }\n",
    "        torch.save(state, checkpoint_path)"
   ]
  }
 ],
 "metadata": {
  "kernelspec": {
   "display_name": "pystudy_env",
   "language": "python",
   "name": "python3"
  },
  "language_info": {
   "codemirror_mode": {
    "name": "ipython",
    "version": 3
   },
   "file_extension": ".py",
   "mimetype": "text/x-python",
   "name": "python",
   "nbconvert_exporter": "python",
   "pygments_lexer": "ipython3",
   "version": "3.12.9"
  }
 },
 "nbformat": 4,
 "nbformat_minor": 5
}
