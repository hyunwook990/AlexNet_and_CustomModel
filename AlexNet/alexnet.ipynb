{
 "cells": [
  {
   "cell_type": "markdown",
   "id": "a2ba9b05",
   "metadata": {},
   "source": [
    "# AlexNet"
   ]
  },
  {
   "cell_type": "code",
   "execution_count": null,
   "id": "edc90dd1",
   "metadata": {},
   "outputs": [],
   "source": [
    "import torch\n",
    "import torch.nn as nn\n",
    "import torch.nn.functional as F\n",
    "import torch.optim as optim"
   ]
  },
  {
   "cell_type": "markdown",
   "id": "5ceb1231",
   "metadata": {},
   "source": [
    "# convolution, fully_connected"
   ]
  },
  {
   "cell_type": "code",
   "execution_count": null,
   "id": "227e6d0c",
   "metadata": {},
   "outputs": [],
   "source": [
    "class AlexNet(nn.Module):\n",
    "    def __init__(self):\n",
    "        super(AlexNet, self).__init__()\n",
    "        # in, out_channels가 이미지 사이즈가 아니라 채널 사이즈(filter, feature 개수)를 가지고 가는거구나\n",
    "        self.conv_layer1 = nn.Conv2d(in_channels=3, out_channels=96, kernel_size=11, stride=4)\n",
    "        self.conv_layer2 = nn.Conv2d(in_channels=96, out_channels=256, kernel_size=5, stride=1, padding=2)\n",
    "        self.conv_layer3 = nn.Conv2d(in_channels=256, out_channels=384, kernel_size=3, stride=1, padding=1)\n",
    "        self.conv_layer4 = nn.Conv2d(in_channels=384, out_channels=384, kernel_size=3, stride=1, padding=1)\n",
    "        self.conv_layer5 = nn.Conv2d(in_channels=384, out_channels=256, kernel_size=3, stride=1, padding=1)\n",
    "        self.fc_layer1 = nn.Linear(in_features=6*6*256, out_features=4096)\n",
    "        self.fc_layer2 = nn.Linear(in_features=4096, out_features=4096)\n",
    "        self.fc_layer3 = nn.Linear(in_features=4096, out_features=1000)\n",
    "    \n",
    "    # 이건 alexnet을 구현한 git에서 가져온 code\n",
    "    def init_bias(self):\n",
    "        for layer in self.net:\n",
    "            if isinstance(layer, nn.Conv2d):\n",
    "                nn.init.normal_(layer.weight, mean=0, std=0.01)\n",
    "                nn.init.constant_(layer.bias, 0)\n",
    "        # original paper = 1 for Conv2d layers 2nd, 4th, and 5th conv layers\n",
    "        nn.init.constant_(self.net[4].bias, 1)\n",
    "        nn.init.constant_(self.net[10].bias, 1)\n",
    "        nn.init.constant_(self.net[12].bias, 1)\n",
    "\n",
    "    # x1, x2 = 병렬 GPU에 각각 처리되는 것을 구현하기 위한 변수\n",
    "    def forward(self, x):\n",
    "        # Layer_1\n",
    "        # ReLU\n",
    "        \n",
    "        x = F.relu(self.conv_layer1(x))\n",
    "        # LRN (LocalResponseNormalization, 정규화)\n",
    "        x = F.local_response_norm(x, size=5, alpha=0.0001, beta=0.75, k=2)\n",
    "        # MaxPooling\n",
    "        x = F.max_pool2d(x, kernel_size=3, stride=2)\n",
    "\n",
    "        # Layer_2\n",
    "        x = F.relu(self.conv_layer2(x))\n",
    "        x = F.local_response_norm(x, size=5, alpha=0.0001, beta=0.75, k=2)\n",
    "        x = F.max_pool2d(x, kernel_size=3, stride=2)\n",
    "        \n",
    "        # Layer_3\n",
    "        x = F.relu(self.conv_layer3(x))\n",
    "        \n",
    "        # Layer_4\n",
    "        x = F.relu(self.conv_layer4(x))\n",
    "        \n",
    "        # Layer_5\n",
    "        x = F.relu(self.conv_layer5(x))\n",
    "        x = F.max_pool2d(x, kernel_size=3, stride=2)\n",
    "        \n",
    "        # Flatten\n",
    "        x = nn.Flatten(x)\n",
    "        # x = x.flatten()\n",
    "        # x = x.view(-1, 6*6*256)\n",
    "\n",
    "        # Layer_6\n",
    "        x = nn.Dropout(x, p=0.5)\n",
    "        x = F.relu(self.fc_layer1(x))\n",
    "\n",
    "        # Layer_7\n",
    "        x = nn.Dropout(x, p=0.5)\n",
    "        x = F.relu(self.fc_layer2(x))\n",
    "\n",
    "        # Layer_8\n",
    "        x = nn.Softmax(self.fc_layer3(x))\n",
    "\n",
    "        return x"
   ]
  },
  {
   "cell_type": "code",
   "execution_count": 14,
   "id": "d89dae87",
   "metadata": {},
   "outputs": [
    {
     "data": {
      "text/plain": [
       "device(type='cpu')"
      ]
     },
     "execution_count": 14,
     "metadata": {},
     "output_type": "execute_result"
    }
   ],
   "source": [
    "device = torch.device(\"cuda\" if torch.cuda.is_available() else \"cpu\")\n",
    "device"
   ]
  },
  {
   "cell_type": "code",
   "execution_count": 15,
   "id": "4ac600c7",
   "metadata": {},
   "outputs": [
    {
     "name": "stdout",
     "output_type": "stream",
     "text": [
      "AlexNet(\n",
      "  (conv_layer1): Conv2d(3, 96, kernel_size=(11, 11), stride=(4, 4))\n",
      "  (conv_layer2): Conv2d(96, 256, kernel_size=(5, 5), stride=(1, 1), padding=(2, 2))\n",
      "  (conv_layer3): Conv2d(256, 384, kernel_size=(3, 3), stride=(1, 1), padding=(1, 1))\n",
      "  (conv_layer4): Conv2d(384, 384, kernel_size=(3, 3), stride=(1, 1), padding=(1, 1))\n",
      "  (conv_layer5): Conv2d(384, 256, kernel_size=(3, 3), stride=(1, 1), padding=(1, 1))\n",
      "  (fc_layer1): Linear(in_features=9216, out_features=4096, bias=True)\n",
      "  (fc_layer2): Linear(in_features=4096, out_features=4096, bias=True)\n",
      "  (fc_layer3): Linear(in_features=4096, out_features=1000, bias=True)\n",
      ")\n"
     ]
    }
   ],
   "source": [
    "alexnet = AlexNet().to(device)\n",
    "print(alexnet)"
   ]
  },
  {
   "cell_type": "code",
   "execution_count": null,
   "id": "0f742d21",
   "metadata": {},
   "outputs": [],
   "source": [
    "criterion = nn.CrossEntropyLoss()\n",
    "optimizer = optim.Adam(params=alexnet.parameters(), lr=1e-4)\n",
    "lr_scheduler = optim.lr_scheduler.StepLR(optimizer=optimizer, step_size=30, gamma=0.1)\n"
   ]
  }
 ],
 "metadata": {
  "kernelspec": {
   "display_name": "pystudy_env",
   "language": "python",
   "name": "python3"
  },
  "language_info": {
   "codemirror_mode": {
    "name": "ipython",
    "version": 3
   },
   "file_extension": ".py",
   "mimetype": "text/x-python",
   "name": "python",
   "nbconvert_exporter": "python",
   "pygments_lexer": "ipython3",
   "version": "3.12.9"
  }
 },
 "nbformat": 4,
 "nbformat_minor": 5
}
