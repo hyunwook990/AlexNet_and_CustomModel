{
 "cells": [
  {
   "cell_type": "markdown",
   "id": "a2ba9b05",
   "metadata": {},
   "source": [
    "# AlexNet"
   ]
  },
  {
   "cell_type": "code",
   "execution_count": 1,
   "id": "edc90dd1",
   "metadata": {},
   "outputs": [],
   "source": [
    "import torch\n",
    "import torch.nn as nn\n",
    "import torch.nn.functional as F"
   ]
  },
  {
   "cell_type": "code",
   "execution_count": null,
   "id": "227e6d0c",
   "metadata": {},
   "outputs": [],
   "source": [
    "class AlexNet(nn.Module):\n",
    "    def __init__(self):\n",
    "        super(self, alexnet).__init__()\n",
    "        # in, out_channels가 이미지 사이즈가 아니라 채널 사이즈(filter 개수)를 가지고 가는거구나\n",
    "        self.conv_layer1 = nn.Conv2d(in_channels=3, out_channels=48, kernel_size=11, stride=4)\n",
    "        self.conv_layer2 = nn.Conv2d(in_channels=48, out_channels=128, kernel_size=5, stride=1, padding=2)\n",
    "        self.conv_layer3 = nn.Conv2d(in_channels=256, out_channels=384, kernel_size=3, stride=1, padding=1)\n",
    "        self.conv_layer4 = nn.Conv2d(in_channels=192, out_channels=384, kernel_size=3, stride=1, padding=1)\n",
    "        self.conv_layer5 = nn.Conv2d(in_channels=256, out_channels=384, kernel_size=3, stride=1, padding=1)\n",
    "        self.fc_layer1 = nn.Linear\n",
    "\n",
    "    # x1, x2 = 병렬 GPU에 각각 처리되는 것을 구현하기 위한 변수\n",
    "    def forward(self, x):\n",
    "        # Layer_1\n",
    "        # ReLU\n",
    "        x1 = F.relu(self.conv_layer1(x))\n",
    "        x2 = F.relu(self.conv_layer1(x))\n",
    "\n",
    "        # LRN (LocalResponseNormalization, 정규화)\n",
    "        x1 = F.local_response_norm(x1)\n",
    "        x2 = F.local_response_norm(x2)\n",
    "\n",
    "        # MaxPooling\n",
    "        x1 = F.max_pool2d(x1, (3, 2))\n",
    "        x2 = F.max_pool2d(x2, (3, 2))\n",
    "\n",
    "        # Layer_2\n",
    "        # ReLU\n",
    "        x1 = F.relu(self.conv_layer2(x1))\n",
    "        x2 = F.relu(self.conv_layer2(x2))\n",
    "        \n",
    "        # LRN (LocalResponseNormalization, 정규화)\n",
    "        x1 = F.local_response_norm(x1)\n",
    "        x2 = F.local_response_norm(x2)\n",
    "\n",
    "        # MaxPooling\n",
    "        x1 = F.max_pool2d(x1, (3, 2))\n",
    "        x2 = F.max_pool2d(x2, (3, 2))\n",
    "\n",
    "        x = x.flatten()\n",
    "        x = F.relu(self.fc_layer1(x))\n",
    "\n",
    "        return x\n",
    "    \n",
    "alexnet = AlexNet()"
   ]
  }
 ],
 "metadata": {
  "kernelspec": {
   "display_name": "pystudy_env",
   "language": "python",
   "name": "python3"
  },
  "language_info": {
   "codemirror_mode": {
    "name": "ipython",
    "version": 3
   },
   "file_extension": ".py",
   "mimetype": "text/x-python",
   "name": "python",
   "nbconvert_exporter": "python",
   "pygments_lexer": "ipython3",
   "version": "3.12.9"
  }
 },
 "nbformat": 4,
 "nbformat_minor": 5
}
